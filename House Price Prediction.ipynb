{
 "cells": [
  {
   "cell_type": "markdown",
   "id": "442fd3c2",
   "metadata": {},
   "source": [
    "# King County , WA House Price Analysis and Prediction"
   ]
  },
  {
   "cell_type": "markdown",
   "id": "e0c8c58f",
   "metadata": {},
   "source": [
    "## Business Problem"
   ]
  },
  {
   "cell_type": "markdown",
   "id": "17659863",
   "metadata": {},
   "source": [
    "You are hired by a real estate agency to analize and predict the price of a house in King County, WA area based on a defferent house features.\n",
    "- This analysis is focused on the house prices for the years 2014 and 2015 housing sales in King County, WA.\n",
    "- Multiple linear regression models are used to achieve this goal."
   ]
  },
  {
   "cell_type": "markdown",
   "id": "e80a0bce",
   "metadata": {},
   "source": [
    "## Data \n",
    "- King County housing 2014-2015 data is collected from [Kaggle](https://www.kaggle.com/code/mosesaborisade/moses-house-sales-in-king-county-usa/data). "
   ]
  },
  {
   "cell_type": "markdown",
   "id": "c39c0557",
   "metadata": {},
   "source": [
    "Data Dictionary:\n",
    "\n",
    "- id: A unique sale id relating to a house sale\n",
    "- date: Date of house sale\n",
    "- price: The price which the house sold for\n",
    "- bedrooms: No of bedrooms house has\n",
    "- bathrooms: No of bathrooms house has\n",
    "- sqft_living: Square footage of the house \n",
    "- sqft_lot: Square footage of the lot \n",
    "- floors: No of floors house has\n",
    "- waterfront: Whether the house is near/on waterfront. Originally contained ‘YES’ or ‘NO’, converted to 0 or 1 for comparative purposes\n",
    "- view: Whether the house has a view and whether it’s fair, average, good, or excellent. Converted to numberical (0-4) for comparative purposes\n",
    "- condition: overall condition of the house: Poor, Fair, Average, Good, Very Good\n",
    "- grade: Numerical grading for house\n",
    "- sqft_above: How much of the houses square footage is above ground\n",
    "- sqft_basement: How much of the square footage is in the basement\n",
    "- yr_built: Year the house was built\n",
    "- yr_renovated: Year the house was renovated, if applicable\n",
    "- zipcode: House zipcode\n",
    "- lat: House’s latitude coordinate\n",
    "- long: House’s longitude coordinate\n",
    "- sqft_living15: Average size of living space for the closest 15 houses\n",
    "- sqft_lot15: Average size of lot for the closest 15 houses\n"
   ]
  },
  {
   "cell_type": "code",
   "execution_count": 2,
   "id": "03695cbf",
   "metadata": {},
   "outputs": [],
   "source": [
    "import pandas as pd\n"
   ]
  },
  {
   "cell_type": "code",
   "execution_count": 5,
   "id": "73b05f82",
   "metadata": {},
   "outputs": [],
   "source": [
    "df =pd.read_csv('Data/kc_house_data.csv')"
   ]
  },
  {
   "cell_type": "code",
   "execution_count": 6,
   "id": "7d1895e0",
   "metadata": {},
   "outputs": [
    {
     "name": "stdout",
     "output_type": "stream",
     "text": [
      "<class 'pandas.core.frame.DataFrame'>\n",
      "RangeIndex: 21613 entries, 0 to 21612\n",
      "Data columns (total 21 columns):\n",
      " #   Column         Non-Null Count  Dtype  \n",
      "---  ------         --------------  -----  \n",
      " 0   id             21613 non-null  int64  \n",
      " 1   date           21613 non-null  object \n",
      " 2   price          21613 non-null  float64\n",
      " 3   bedrooms       21613 non-null  int64  \n",
      " 4   bathrooms      21613 non-null  float64\n",
      " 5   sqft_living    21613 non-null  int64  \n",
      " 6   sqft_lot       21613 non-null  int64  \n",
      " 7   floors         21613 non-null  float64\n",
      " 8   waterfront     21613 non-null  int64  \n",
      " 9   view           21613 non-null  int64  \n",
      " 10  condition      21613 non-null  int64  \n",
      " 11  grade          21613 non-null  int64  \n",
      " 12  sqft_above     21613 non-null  int64  \n",
      " 13  sqft_basement  21613 non-null  int64  \n",
      " 14  yr_built       21613 non-null  int64  \n",
      " 15  yr_renovated   21613 non-null  int64  \n",
      " 16  zipcode        21613 non-null  int64  \n",
      " 17  lat            21613 non-null  float64\n",
      " 18  long           21613 non-null  float64\n",
      " 19  sqft_living15  21613 non-null  int64  \n",
      " 20  sqft_lot15     21613 non-null  int64  \n",
      "dtypes: float64(5), int64(15), object(1)\n",
      "memory usage: 3.5+ MB\n"
     ]
    }
   ],
   "source": [
    "df.info()"
   ]
  },
  {
   "cell_type": "code",
   "execution_count": null,
   "id": "1a617225",
   "metadata": {},
   "outputs": [],
   "source": []
  }
 ],
 "metadata": {
  "kernelspec": {
   "display_name": "Python (dojo-env)",
   "language": "python",
   "name": "dojo-env"
  },
  "language_info": {
   "codemirror_mode": {
    "name": "ipython",
    "version": 3
   },
   "file_extension": ".py",
   "mimetype": "text/x-python",
   "name": "python",
   "nbconvert_exporter": "python",
   "pygments_lexer": "ipython3",
   "version": "3.8.13"
  },
  "toc": {
   "base_numbering": 1,
   "nav_menu": {},
   "number_sections": false,
   "sideBar": true,
   "skip_h1_title": false,
   "title_cell": "Table of Contents",
   "title_sidebar": "Contents",
   "toc_cell": false,
   "toc_position": {
    "height": "calc(100% - 180px)",
    "left": "10px",
    "top": "150px",
    "width": "165px"
   },
   "toc_section_display": true,
   "toc_window_display": true
  }
 },
 "nbformat": 4,
 "nbformat_minor": 5
}
